{
  "cells": [
    {
      "cell_type": "markdown",
      "metadata": {
        "id": "nXigFJJmFT6H"
      },
      "source": [
        "## Install the library"
      ]
    },
    {
      "cell_type": "code",
      "execution_count": 105,
      "metadata": {
        "id": "cHg2x69pRTUI"
      },
      "outputs": [
        {
          "name": "stdout",
          "output_type": "stream",
          "text": [
            "Requirement already satisfied: geemap in /Library/Frameworks/Python.framework/Versions/3.10/lib/python3.10/site-packages (0.20.0)\n",
            "Requirement already satisfied: geocoder in /Library/Frameworks/Python.framework/Versions/3.10/lib/python3.10/site-packages (from geemap) (1.38.1)\n",
            "Requirement already satisfied: pyperclip in /Library/Frameworks/Python.framework/Versions/3.10/lib/python3.10/site-packages (from geemap) (1.8.2)\n",
            "Requirement already satisfied: sankee>=0.1.0 in /Library/Frameworks/Python.framework/Versions/3.10/lib/python3.10/site-packages (from geemap) (0.2.1)\n",
            "Requirement already satisfied: whiteboxgui>=0.6.0 in /Library/Frameworks/Python.framework/Versions/3.10/lib/python3.10/site-packages (from geemap) (2.2.0)\n",
            "Requirement already satisfied: gdown in /Library/Frameworks/Python.framework/Versions/3.10/lib/python3.10/site-packages (from geemap) (4.6.4)\n",
            "Requirement already satisfied: colour in /Library/Frameworks/Python.framework/Versions/3.10/lib/python3.10/site-packages (from geemap) (0.1.5)\n",
            "Requirement already satisfied: ipywidgets<8.0.0 in /Library/Frameworks/Python.framework/Versions/3.10/lib/python3.10/site-packages (from geemap) (7.7.3)\n",
            "Requirement already satisfied: pycrs in /Library/Frameworks/Python.framework/Versions/3.10/lib/python3.10/site-packages (from geemap) (1.0.2)\n",
            "Requirement already satisfied: python-box in /Library/Frameworks/Python.framework/Versions/3.10/lib/python3.10/site-packages (from geemap) (7.0.1)\n",
            "Requirement already satisfied: xyzservices in /Library/Frameworks/Python.framework/Versions/3.10/lib/python3.10/site-packages (from geemap) (2023.2.0)\n",
            "Requirement already satisfied: matplotlib in /Library/Frameworks/Python.framework/Versions/3.10/lib/python3.10/site-packages (from geemap) (3.7.0)\n",
            "Requirement already satisfied: ipyevents in /Library/Frameworks/Python.framework/Versions/3.10/lib/python3.10/site-packages (from geemap) (2.0.1)\n",
            "Requirement already satisfied: pyshp>=2.1.3 in /Library/Frameworks/Python.framework/Versions/3.10/lib/python3.10/site-packages (from geemap) (2.3.1)\n",
            "Requirement already satisfied: pillow in /Library/Frameworks/Python.framework/Versions/3.10/lib/python3.10/site-packages (from geemap) (9.4.0)\n",
            "Requirement already satisfied: pandas in /Library/Frameworks/Python.framework/Versions/3.10/lib/python3.10/site-packages (from geemap) (1.5.2)\n",
            "Requirement already satisfied: ffmpeg-python in /Library/Frameworks/Python.framework/Versions/3.10/lib/python3.10/site-packages (from geemap) (0.2.0)\n",
            "Requirement already satisfied: numpy in /Library/Frameworks/Python.framework/Versions/3.10/lib/python3.10/site-packages (from geemap) (1.22.1)\n",
            "Requirement already satisfied: earthengine-api>=0.1.304 in /Library/Frameworks/Python.framework/Versions/3.10/lib/python3.10/site-packages (from geemap) (0.1.342)\n",
            "Requirement already satisfied: ipyfilechooser>=0.6.0 in /Library/Frameworks/Python.framework/Versions/3.10/lib/python3.10/site-packages (from geemap) (0.6.0)\n",
            "Requirement already satisfied: bqplot in /Library/Frameworks/Python.framework/Versions/3.10/lib/python3.10/site-packages (from geemap) (0.12.36)\n",
            "Requirement already satisfied: ee-extra>=0.0.10 in /Library/Frameworks/Python.framework/Versions/3.10/lib/python3.10/site-packages (from geemap) (0.0.15)\n",
            "Requirement already satisfied: ipytree in /Library/Frameworks/Python.framework/Versions/3.10/lib/python3.10/site-packages (from geemap) (0.2.2)\n",
            "Requirement already satisfied: eerepr>=0.0.4 in /Library/Frameworks/Python.framework/Versions/3.10/lib/python3.10/site-packages (from geemap) (0.0.4)\n",
            "Requirement already satisfied: geojson in /Library/Frameworks/Python.framework/Versions/3.10/lib/python3.10/site-packages (from geemap) (3.0.1)\n",
            "Requirement already satisfied: geeadd>=0.5.1 in /Library/Frameworks/Python.framework/Versions/3.10/lib/python3.10/site-packages (from geemap) (0.5.6)\n",
            "Requirement already satisfied: folium>=0.11.0 in /Library/Frameworks/Python.framework/Versions/3.10/lib/python3.10/site-packages (from geemap) (0.14.0)\n",
            "Requirement already satisfied: scooby in /Library/Frameworks/Python.framework/Versions/3.10/lib/python3.10/site-packages (from geemap) (0.7.1)\n",
            "Requirement already satisfied: ipyleaflet>=0.17.0 in /Library/Frameworks/Python.framework/Versions/3.10/lib/python3.10/site-packages (from geemap) (0.17.2)\n",
            "Requirement already satisfied: google-cloud-storage in /Library/Frameworks/Python.framework/Versions/3.10/lib/python3.10/site-packages (from earthengine-api>=0.1.304->geemap) (2.7.0)\n",
            "Requirement already satisfied: google-api-python-client>=1.12.1 in /Library/Frameworks/Python.framework/Versions/3.10/lib/python3.10/site-packages (from earthengine-api>=0.1.304->geemap) (2.79.0)\n",
            "Requirement already satisfied: google-auth>=1.4.1 in /Library/Frameworks/Python.framework/Versions/3.10/lib/python3.10/site-packages (from earthengine-api>=0.1.304->geemap) (2.16.1)\n",
            "Requirement already satisfied: google-auth-httplib2>=0.0.3 in /Library/Frameworks/Python.framework/Versions/3.10/lib/python3.10/site-packages (from earthengine-api>=0.1.304->geemap) (0.1.0)\n",
            "Requirement already satisfied: httplib2<1dev,>=0.9.2 in /Library/Frameworks/Python.framework/Versions/3.10/lib/python3.10/site-packages (from earthengine-api>=0.1.304->geemap) (0.21.0)\n",
            "Requirement already satisfied: requests in /Library/Frameworks/Python.framework/Versions/3.10/lib/python3.10/site-packages (from earthengine-api>=0.1.304->geemap) (2.28.1)\n",
            "Requirement already satisfied: jinja2>=2.9 in /Library/Frameworks/Python.framework/Versions/3.10/lib/python3.10/site-packages (from folium>=0.11.0->geemap) (3.1.2)\n",
            "Requirement already satisfied: branca>=0.6.0 in /Library/Frameworks/Python.framework/Versions/3.10/lib/python3.10/site-packages (from folium>=0.11.0->geemap) (0.6.0)\n",
            "Requirement already satisfied: logzero>=1.5.0 in /Library/Frameworks/Python.framework/Versions/3.10/lib/python3.10/site-packages (from geeadd>=0.5.1->geemap) (1.7.0)\n",
            "Requirement already satisfied: beautifulsoup4>=4.9.0 in /Library/Frameworks/Python.framework/Versions/3.10/lib/python3.10/site-packages (from geeadd>=0.5.1->geemap) (4.11.2)\n",
            "Requirement already satisfied: traittypes<3,>=0.2.1 in /Library/Frameworks/Python.framework/Versions/3.10/lib/python3.10/site-packages (from ipyleaflet>=0.17.0->geemap) (0.2.1)\n",
            "Requirement already satisfied: traitlets>=4.3.1 in /Library/Frameworks/Python.framework/Versions/3.10/lib/python3.10/site-packages (from ipywidgets<8.0.0->geemap) (5.9.0)\n",
            "Requirement already satisfied: jupyterlab-widgets<3,>=1.0.0 in /Library/Frameworks/Python.framework/Versions/3.10/lib/python3.10/site-packages (from ipywidgets<8.0.0->geemap) (1.1.2)\n",
            "Requirement already satisfied: ipython>=4.0.0 in /Users/eemanmajumder/Library/Python/3.10/lib/python/site-packages (from ipywidgets<8.0.0->geemap) (8.5.0)\n",
            "Requirement already satisfied: ipykernel>=4.5.1 in /Users/eemanmajumder/Library/Python/3.10/lib/python/site-packages (from ipywidgets<8.0.0->geemap) (6.16.0)\n",
            "Requirement already satisfied: ipython-genutils~=0.2.0 in /Library/Frameworks/Python.framework/Versions/3.10/lib/python3.10/site-packages (from ipywidgets<8.0.0->geemap) (0.2.0)\n",
            "Requirement already satisfied: widgetsnbextension~=3.6.0 in /Library/Frameworks/Python.framework/Versions/3.10/lib/python3.10/site-packages (from ipywidgets<8.0.0->geemap) (3.6.2)\n",
            "Requirement already satisfied: plotly>=5.2.2 in /Library/Frameworks/Python.framework/Versions/3.10/lib/python3.10/site-packages (from sankee>=0.1.0->geemap) (5.13.0)\n",
            "Requirement already satisfied: whitebox in /Library/Frameworks/Python.framework/Versions/3.10/lib/python3.10/site-packages (from whiteboxgui>=0.6.0->geemap) (2.2.0)\n",
            "Requirement already satisfied: pytz>=2020.1 in /Library/Frameworks/Python.framework/Versions/3.10/lib/python3.10/site-packages (from pandas->geemap) (2022.7)\n",
            "Requirement already satisfied: python-dateutil>=2.8.1 in /Users/eemanmajumder/Library/Python/3.10/lib/python/site-packages (from pandas->geemap) (2.8.2)\n",
            "Requirement already satisfied: future in /Library/Frameworks/Python.framework/Versions/3.10/lib/python3.10/site-packages (from ffmpeg-python->geemap) (0.18.3)\n",
            "Requirement already satisfied: tqdm in /Library/Frameworks/Python.framework/Versions/3.10/lib/python3.10/site-packages (from gdown->geemap) (4.64.1)\n",
            "Requirement already satisfied: six in /Users/eemanmajumder/Library/Python/3.10/lib/python/site-packages (from gdown->geemap) (1.16.0)\n",
            "Requirement already satisfied: filelock in /Library/Frameworks/Python.framework/Versions/3.10/lib/python3.10/site-packages (from gdown->geemap) (3.9.0)\n",
            "Requirement already satisfied: ratelim in /Library/Frameworks/Python.framework/Versions/3.10/lib/python3.10/site-packages (from geocoder->geemap) (0.1.6)\n",
            "Requirement already satisfied: click in /Library/Frameworks/Python.framework/Versions/3.10/lib/python3.10/site-packages (from geocoder->geemap) (8.1.3)\n",
            "Requirement already satisfied: pyparsing>=2.3.1 in /Users/eemanmajumder/Library/Python/3.10/lib/python/site-packages (from matplotlib->geemap) (3.0.9)\n",
            "Requirement already satisfied: fonttools>=4.22.0 in /Library/Frameworks/Python.framework/Versions/3.10/lib/python3.10/site-packages (from matplotlib->geemap) (4.38.0)\n",
            "Requirement already satisfied: kiwisolver>=1.0.1 in /Library/Frameworks/Python.framework/Versions/3.10/lib/python3.10/site-packages (from matplotlib->geemap) (1.4.4)\n",
            "Requirement already satisfied: packaging>=20.0 in /Users/eemanmajumder/Library/Python/3.10/lib/python/site-packages (from matplotlib->geemap) (21.3)\n",
            "Requirement already satisfied: cycler>=0.10 in /Library/Frameworks/Python.framework/Versions/3.10/lib/python3.10/site-packages (from matplotlib->geemap) (0.11.0)\n",
            "Requirement already satisfied: contourpy>=1.0.1 in /Library/Frameworks/Python.framework/Versions/3.10/lib/python3.10/site-packages (from matplotlib->geemap) (1.0.7)\n",
            "Requirement already satisfied: soupsieve>1.2 in /Library/Frameworks/Python.framework/Versions/3.10/lib/python3.10/site-packages (from beautifulsoup4>=4.9.0->geeadd>=0.5.1->geemap) (2.4)\n",
            "Requirement already satisfied: uritemplate<5,>=3.0.1 in /Library/Frameworks/Python.framework/Versions/3.10/lib/python3.10/site-packages (from google-api-python-client>=1.12.1->earthengine-api>=0.1.304->geemap) (4.1.1)\n",
            "Requirement already satisfied: google-api-core!=2.0.*,!=2.1.*,!=2.2.*,!=2.3.0,<3.0.0dev,>=1.31.5 in /Library/Frameworks/Python.framework/Versions/3.10/lib/python3.10/site-packages (from google-api-python-client>=1.12.1->earthengine-api>=0.1.304->geemap) (2.11.0)\n",
            "Requirement already satisfied: pyasn1-modules>=0.2.1 in /Library/Frameworks/Python.framework/Versions/3.10/lib/python3.10/site-packages (from google-auth>=1.4.1->earthengine-api>=0.1.304->geemap) (0.2.8)\n",
            "Requirement already satisfied: cachetools<6.0,>=2.0.0 in /Library/Frameworks/Python.framework/Versions/3.10/lib/python3.10/site-packages (from google-auth>=1.4.1->earthengine-api>=0.1.304->geemap) (5.3.0)\n",
            "Requirement already satisfied: rsa<5,>=3.1.4 in /Library/Frameworks/Python.framework/Versions/3.10/lib/python3.10/site-packages (from google-auth>=1.4.1->earthengine-api>=0.1.304->geemap) (4.9)\n",
            "Requirement already satisfied: appnope in /Users/eemanmajumder/Library/Python/3.10/lib/python/site-packages (from ipykernel>=4.5.1->ipywidgets<8.0.0->geemap) (0.1.3)\n",
            "Requirement already satisfied: matplotlib-inline>=0.1 in /Users/eemanmajumder/Library/Python/3.10/lib/python/site-packages (from ipykernel>=4.5.1->ipywidgets<8.0.0->geemap) (0.1.6)\n",
            "Requirement already satisfied: pyzmq>=17 in /Users/eemanmajumder/Library/Python/3.10/lib/python/site-packages (from ipykernel>=4.5.1->ipywidgets<8.0.0->geemap) (24.0.1)\n",
            "Requirement already satisfied: tornado>=6.1 in /Users/eemanmajumder/Library/Python/3.10/lib/python/site-packages (from ipykernel>=4.5.1->ipywidgets<8.0.0->geemap) (6.2)\n",
            "Requirement already satisfied: nest-asyncio in /Users/eemanmajumder/Library/Python/3.10/lib/python/site-packages (from ipykernel>=4.5.1->ipywidgets<8.0.0->geemap) (1.5.6)\n",
            "Requirement already satisfied: debugpy>=1.0 in /Users/eemanmajumder/Library/Python/3.10/lib/python/site-packages (from ipykernel>=4.5.1->ipywidgets<8.0.0->geemap) (1.6.3)\n",
            "Requirement already satisfied: jupyter-client>=6.1.12 in /Library/Frameworks/Python.framework/Versions/3.10/lib/python3.10/site-packages (from ipykernel>=4.5.1->ipywidgets<8.0.0->geemap) (8.0.3)\n",
            "Requirement already satisfied: psutil in /Users/eemanmajumder/Library/Python/3.10/lib/python/site-packages (from ipykernel>=4.5.1->ipywidgets<8.0.0->geemap) (5.9.2)\n",
            "Requirement already satisfied: prompt-toolkit<3.1.0,>3.0.1 in /Users/eemanmajumder/Library/Python/3.10/lib/python/site-packages (from ipython>=4.0.0->ipywidgets<8.0.0->geemap) (3.0.31)\n",
            "Requirement already satisfied: pygments>=2.4.0 in /Library/Frameworks/Python.framework/Versions/3.10/lib/python3.10/site-packages (from ipython>=4.0.0->ipywidgets<8.0.0->geemap) (2.14.0)\n",
            "Requirement already satisfied: pickleshare in /Users/eemanmajumder/Library/Python/3.10/lib/python/site-packages (from ipython>=4.0.0->ipywidgets<8.0.0->geemap) (0.7.5)\n",
            "Requirement already satisfied: backcall in /Users/eemanmajumder/Library/Python/3.10/lib/python/site-packages (from ipython>=4.0.0->ipywidgets<8.0.0->geemap) (0.2.0)\n",
            "Requirement already satisfied: pexpect>4.3 in /Users/eemanmajumder/Library/Python/3.10/lib/python/site-packages (from ipython>=4.0.0->ipywidgets<8.0.0->geemap) (4.8.0)\n",
            "Requirement already satisfied: jedi>=0.16 in /Users/eemanmajumder/Library/Python/3.10/lib/python/site-packages (from ipython>=4.0.0->ipywidgets<8.0.0->geemap) (0.18.1)\n",
            "Requirement already satisfied: stack-data in /Users/eemanmajumder/Library/Python/3.10/lib/python/site-packages (from ipython>=4.0.0->ipywidgets<8.0.0->geemap) (0.5.1)\n",
            "Requirement already satisfied: decorator in /Users/eemanmajumder/Library/Python/3.10/lib/python/site-packages (from ipython>=4.0.0->ipywidgets<8.0.0->geemap) (5.1.1)\n",
            "Requirement already satisfied: MarkupSafe>=2.0 in /Library/Frameworks/Python.framework/Versions/3.10/lib/python3.10/site-packages (from jinja2>=2.9->folium>=0.11.0->geemap) (2.1.2)\n",
            "Requirement already satisfied: tenacity>=6.2.0 in /Library/Frameworks/Python.framework/Versions/3.10/lib/python3.10/site-packages (from plotly>=5.2.2->sankee>=0.1.0->geemap) (8.2.1)\n",
            "Requirement already satisfied: certifi>=2017.4.17 in /Library/Frameworks/Python.framework/Versions/3.10/lib/python3.10/site-packages (from requests->earthengine-api>=0.1.304->geemap) (2022.12.7)\n",
            "Requirement already satisfied: urllib3<1.27,>=1.21.1 in /Library/Frameworks/Python.framework/Versions/3.10/lib/python3.10/site-packages (from requests->earthengine-api>=0.1.304->geemap) (1.26.13)\n",
            "Requirement already satisfied: charset-normalizer<3,>=2 in /Library/Frameworks/Python.framework/Versions/3.10/lib/python3.10/site-packages (from requests->earthengine-api>=0.1.304->geemap) (2.1.1)\n",
            "Requirement already satisfied: idna<4,>=2.5 in /Library/Frameworks/Python.framework/Versions/3.10/lib/python3.10/site-packages (from requests->earthengine-api>=0.1.304->geemap) (3.4)\n",
            "Requirement already satisfied: notebook>=4.4.1 in /Library/Frameworks/Python.framework/Versions/3.10/lib/python3.10/site-packages (from widgetsnbextension~=3.6.0->ipywidgets<8.0.0->geemap) (6.5.2)\n",
            "Requirement already satisfied: google-cloud-core<3.0dev,>=2.3.0 in /Library/Frameworks/Python.framework/Versions/3.10/lib/python3.10/site-packages (from google-cloud-storage->earthengine-api>=0.1.304->geemap) (2.3.2)\n",
            "Requirement already satisfied: google-resumable-media>=2.3.2 in /Library/Frameworks/Python.framework/Versions/3.10/lib/python3.10/site-packages (from google-cloud-storage->earthengine-api>=0.1.304->geemap) (2.4.1)\n",
            "Requirement already satisfied: PySocks!=1.5.7,>=1.5.6 in /Library/Frameworks/Python.framework/Versions/3.10/lib/python3.10/site-packages (from requests->earthengine-api>=0.1.304->geemap) (1.7.1)\n",
            "Requirement already satisfied: googleapis-common-protos<2.0dev,>=1.56.2 in /Library/Frameworks/Python.framework/Versions/3.10/lib/python3.10/site-packages (from google-api-core!=2.0.*,!=2.1.*,!=2.2.*,!=2.3.0,<3.0.0dev,>=1.31.5->google-api-python-client>=1.12.1->earthengine-api>=0.1.304->geemap) (1.58.0)\n",
            "Requirement already satisfied: protobuf!=3.20.0,!=3.20.1,!=4.21.0,!=4.21.1,!=4.21.2,!=4.21.3,!=4.21.4,!=4.21.5,<5.0.0dev,>=3.19.5 in /Library/Frameworks/Python.framework/Versions/3.10/lib/python3.10/site-packages (from google-api-core!=2.0.*,!=2.1.*,!=2.2.*,!=2.3.0,<3.0.0dev,>=1.31.5->google-api-python-client>=1.12.1->earthengine-api>=0.1.304->geemap) (3.20.3)\n",
            "Requirement already satisfied: google-crc32c<2.0dev,>=1.0 in /Library/Frameworks/Python.framework/Versions/3.10/lib/python3.10/site-packages (from google-resumable-media>=2.3.2->google-cloud-storage->earthengine-api>=0.1.304->geemap) (1.5.0)\n",
            "Requirement already satisfied: parso<0.9.0,>=0.8.0 in /Users/eemanmajumder/Library/Python/3.10/lib/python/site-packages (from jedi>=0.16->ipython>=4.0.0->ipywidgets<8.0.0->geemap) (0.8.3)\n",
            "Requirement already satisfied: jupyter-core!=5.0.*,>=4.12 in /Library/Frameworks/Python.framework/Versions/3.10/lib/python3.10/site-packages (from jupyter-client>=6.1.12->ipykernel>=4.5.1->ipywidgets<8.0.0->geemap) (5.2.0)\n",
            "Requirement already satisfied: nbconvert>=5 in /Library/Frameworks/Python.framework/Versions/3.10/lib/python3.10/site-packages (from notebook>=4.4.1->widgetsnbextension~=3.6.0->ipywidgets<8.0.0->geemap) (7.2.9)\n",
            "Requirement already satisfied: Send2Trash>=1.8.0 in /Library/Frameworks/Python.framework/Versions/3.10/lib/python3.10/site-packages (from notebook>=4.4.1->widgetsnbextension~=3.6.0->ipywidgets<8.0.0->geemap) (1.8.0)\n",
            "Requirement already satisfied: nbclassic>=0.4.7 in /Library/Frameworks/Python.framework/Versions/3.10/lib/python3.10/site-packages (from notebook>=4.4.1->widgetsnbextension~=3.6.0->ipywidgets<8.0.0->geemap) (0.5.2)\n",
            "Requirement already satisfied: prometheus-client in /Library/Frameworks/Python.framework/Versions/3.10/lib/python3.10/site-packages (from notebook>=4.4.1->widgetsnbextension~=3.6.0->ipywidgets<8.0.0->geemap) (0.16.0)\n",
            "Requirement already satisfied: nbformat in /Library/Frameworks/Python.framework/Versions/3.10/lib/python3.10/site-packages (from notebook>=4.4.1->widgetsnbextension~=3.6.0->ipywidgets<8.0.0->geemap) (5.7.3)\n",
            "Requirement already satisfied: argon2-cffi in /Library/Frameworks/Python.framework/Versions/3.10/lib/python3.10/site-packages (from notebook>=4.4.1->widgetsnbextension~=3.6.0->ipywidgets<8.0.0->geemap) (21.3.0)\n",
            "Requirement already satisfied: terminado>=0.8.3 in /Library/Frameworks/Python.framework/Versions/3.10/lib/python3.10/site-packages (from notebook>=4.4.1->widgetsnbextension~=3.6.0->ipywidgets<8.0.0->geemap) (0.17.1)\n",
            "Requirement already satisfied: ptyprocess>=0.5 in /Users/eemanmajumder/Library/Python/3.10/lib/python/site-packages (from pexpect>4.3->ipython>=4.0.0->ipywidgets<8.0.0->geemap) (0.7.0)\n",
            "Requirement already satisfied: wcwidth in /Users/eemanmajumder/Library/Python/3.10/lib/python/site-packages (from prompt-toolkit<3.1.0,>3.0.1->ipython>=4.0.0->ipywidgets<8.0.0->geemap) (0.2.5)\n",
            "Requirement already satisfied: pyasn1<0.5.0,>=0.4.6 in /Library/Frameworks/Python.framework/Versions/3.10/lib/python3.10/site-packages (from pyasn1-modules>=0.2.1->google-auth>=1.4.1->earthengine-api>=0.1.304->geemap) (0.4.8)\n",
            "Requirement already satisfied: executing in /Users/eemanmajumder/Library/Python/3.10/lib/python/site-packages (from stack-data->ipython>=4.0.0->ipywidgets<8.0.0->geemap) (1.1.0)\n",
            "Requirement already satisfied: asttokens in /Users/eemanmajumder/Library/Python/3.10/lib/python/site-packages (from stack-data->ipython>=4.0.0->ipywidgets<8.0.0->geemap) (2.0.8)\n",
            "Requirement already satisfied: pure-eval in /Users/eemanmajumder/Library/Python/3.10/lib/python/site-packages (from stack-data->ipython>=4.0.0->ipywidgets<8.0.0->geemap) (0.2.2)\n",
            "Requirement already satisfied: platformdirs>=2.5 in /Library/Frameworks/Python.framework/Versions/3.10/lib/python3.10/site-packages (from jupyter-core!=5.0.*,>=4.12->jupyter-client>=6.1.12->ipykernel>=4.5.1->ipywidgets<8.0.0->geemap) (3.0.0)\n",
            "Requirement already satisfied: notebook-shim>=0.1.0 in /Library/Frameworks/Python.framework/Versions/3.10/lib/python3.10/site-packages (from nbclassic>=0.4.7->notebook>=4.4.1->widgetsnbextension~=3.6.0->ipywidgets<8.0.0->geemap) (0.2.2)\n",
            "Requirement already satisfied: jupyter-server>=1.8 in /Library/Frameworks/Python.framework/Versions/3.10/lib/python3.10/site-packages (from nbclassic>=0.4.7->notebook>=4.4.1->widgetsnbextension~=3.6.0->ipywidgets<8.0.0->geemap) (2.3.0)\n",
            "Requirement already satisfied: defusedxml in /Library/Frameworks/Python.framework/Versions/3.10/lib/python3.10/site-packages (from nbconvert>=5->notebook>=4.4.1->widgetsnbextension~=3.6.0->ipywidgets<8.0.0->geemap) (0.7.1)\n",
            "Requirement already satisfied: jupyterlab-pygments in /Library/Frameworks/Python.framework/Versions/3.10/lib/python3.10/site-packages (from nbconvert>=5->notebook>=4.4.1->widgetsnbextension~=3.6.0->ipywidgets<8.0.0->geemap) (0.2.2)\n",
            "Requirement already satisfied: mistune<3,>=2.0.3 in /Library/Frameworks/Python.framework/Versions/3.10/lib/python3.10/site-packages (from nbconvert>=5->notebook>=4.4.1->widgetsnbextension~=3.6.0->ipywidgets<8.0.0->geemap) (2.0.5)\n",
            "Requirement already satisfied: nbclient>=0.5.0 in /Library/Frameworks/Python.framework/Versions/3.10/lib/python3.10/site-packages (from nbconvert>=5->notebook>=4.4.1->widgetsnbextension~=3.6.0->ipywidgets<8.0.0->geemap) (0.7.2)\n",
            "Requirement already satisfied: pandocfilters>=1.4.1 in /Library/Frameworks/Python.framework/Versions/3.10/lib/python3.10/site-packages (from nbconvert>=5->notebook>=4.4.1->widgetsnbextension~=3.6.0->ipywidgets<8.0.0->geemap) (1.5.0)\n",
            "Requirement already satisfied: tinycss2 in /Library/Frameworks/Python.framework/Versions/3.10/lib/python3.10/site-packages (from nbconvert>=5->notebook>=4.4.1->widgetsnbextension~=3.6.0->ipywidgets<8.0.0->geemap) (1.2.1)\n",
            "Requirement already satisfied: bleach in /Library/Frameworks/Python.framework/Versions/3.10/lib/python3.10/site-packages (from nbconvert>=5->notebook>=4.4.1->widgetsnbextension~=3.6.0->ipywidgets<8.0.0->geemap) (6.0.0)\n",
            "Requirement already satisfied: fastjsonschema in /Library/Frameworks/Python.framework/Versions/3.10/lib/python3.10/site-packages (from nbformat->notebook>=4.4.1->widgetsnbextension~=3.6.0->ipywidgets<8.0.0->geemap) (2.16.2)\n",
            "Requirement already satisfied: jsonschema>=2.6 in /Library/Frameworks/Python.framework/Versions/3.10/lib/python3.10/site-packages (from nbformat->notebook>=4.4.1->widgetsnbextension~=3.6.0->ipywidgets<8.0.0->geemap) (4.17.3)\n",
            "Requirement already satisfied: argon2-cffi-bindings in /Library/Frameworks/Python.framework/Versions/3.10/lib/python3.10/site-packages (from argon2-cffi->notebook>=4.4.1->widgetsnbextension~=3.6.0->ipywidgets<8.0.0->geemap) (21.2.0)\n",
            "Requirement already satisfied: attrs>=17.4.0 in /Library/Frameworks/Python.framework/Versions/3.10/lib/python3.10/site-packages (from jsonschema>=2.6->nbformat->notebook>=4.4.1->widgetsnbextension~=3.6.0->ipywidgets<8.0.0->geemap) (22.2.0)\n",
            "Requirement already satisfied: pyrsistent!=0.17.0,!=0.17.1,!=0.17.2,>=0.14.0 in /Library/Frameworks/Python.framework/Versions/3.10/lib/python3.10/site-packages (from jsonschema>=2.6->nbformat->notebook>=4.4.1->widgetsnbextension~=3.6.0->ipywidgets<8.0.0->geemap) (0.19.3)\n",
            "Requirement already satisfied: jupyter-events>=0.4.0 in /Library/Frameworks/Python.framework/Versions/3.10/lib/python3.10/site-packages (from jupyter-server>=1.8->nbclassic>=0.4.7->notebook>=4.4.1->widgetsnbextension~=3.6.0->ipywidgets<8.0.0->geemap) (0.6.3)\n",
            "Requirement already satisfied: websocket-client in /Library/Frameworks/Python.framework/Versions/3.10/lib/python3.10/site-packages (from jupyter-server>=1.8->nbclassic>=0.4.7->notebook>=4.4.1->widgetsnbextension~=3.6.0->ipywidgets<8.0.0->geemap) (1.5.1)\n",
            "Requirement already satisfied: anyio>=3.1.0 in /Library/Frameworks/Python.framework/Versions/3.10/lib/python3.10/site-packages (from jupyter-server>=1.8->nbclassic>=0.4.7->notebook>=4.4.1->widgetsnbextension~=3.6.0->ipywidgets<8.0.0->geemap) (3.6.2)\n",
            "Requirement already satisfied: jupyter-server-terminals in /Library/Frameworks/Python.framework/Versions/3.10/lib/python3.10/site-packages (from jupyter-server>=1.8->nbclassic>=0.4.7->notebook>=4.4.1->widgetsnbextension~=3.6.0->ipywidgets<8.0.0->geemap) (0.4.4)\n",
            "Requirement already satisfied: cffi>=1.0.1 in /Library/Frameworks/Python.framework/Versions/3.10/lib/python3.10/site-packages (from argon2-cffi-bindings->argon2-cffi->notebook>=4.4.1->widgetsnbextension~=3.6.0->ipywidgets<8.0.0->geemap) (1.15.1)\n",
            "Requirement already satisfied: webencodings in /Library/Frameworks/Python.framework/Versions/3.10/lib/python3.10/site-packages (from bleach->nbconvert>=5->notebook>=4.4.1->widgetsnbextension~=3.6.0->ipywidgets<8.0.0->geemap) (0.5.1)\n",
            "Requirement already satisfied: sniffio>=1.1 in /Library/Frameworks/Python.framework/Versions/3.10/lib/python3.10/site-packages (from anyio>=3.1.0->jupyter-server>=1.8->nbclassic>=0.4.7->notebook>=4.4.1->widgetsnbextension~=3.6.0->ipywidgets<8.0.0->geemap) (1.3.0)\n",
            "Requirement already satisfied: pycparser in /Library/Frameworks/Python.framework/Versions/3.10/lib/python3.10/site-packages (from cffi>=1.0.1->argon2-cffi-bindings->argon2-cffi->notebook>=4.4.1->widgetsnbextension~=3.6.0->ipywidgets<8.0.0->geemap) (2.21)\n",
            "Requirement already satisfied: rfc3986-validator>=0.1.1 in /Library/Frameworks/Python.framework/Versions/3.10/lib/python3.10/site-packages (from jupyter-events>=0.4.0->jupyter-server>=1.8->nbclassic>=0.4.7->notebook>=4.4.1->widgetsnbextension~=3.6.0->ipywidgets<8.0.0->geemap) (0.1.1)\n",
            "Requirement already satisfied: pyyaml>=5.3 in /Library/Frameworks/Python.framework/Versions/3.10/lib/python3.10/site-packages (from jupyter-events>=0.4.0->jupyter-server>=1.8->nbclassic>=0.4.7->notebook>=4.4.1->widgetsnbextension~=3.6.0->ipywidgets<8.0.0->geemap) (6.0)\n",
            "Requirement already satisfied: python-json-logger>=2.0.4 in /Library/Frameworks/Python.framework/Versions/3.10/lib/python3.10/site-packages (from jupyter-events>=0.4.0->jupyter-server>=1.8->nbclassic>=0.4.7->notebook>=4.4.1->widgetsnbextension~=3.6.0->ipywidgets<8.0.0->geemap) (2.0.7)\n",
            "Requirement already satisfied: rfc3339-validator in /Library/Frameworks/Python.framework/Versions/3.10/lib/python3.10/site-packages (from jupyter-events>=0.4.0->jupyter-server>=1.8->nbclassic>=0.4.7->notebook>=4.4.1->widgetsnbextension~=3.6.0->ipywidgets<8.0.0->geemap) (0.1.4)\n",
            "Requirement already satisfied: isoduration in /Library/Frameworks/Python.framework/Versions/3.10/lib/python3.10/site-packages (from jsonschema>=2.6->nbformat->notebook>=4.4.1->widgetsnbextension~=3.6.0->ipywidgets<8.0.0->geemap) (20.11.0)\n",
            "Requirement already satisfied: uri-template in /Library/Frameworks/Python.framework/Versions/3.10/lib/python3.10/site-packages (from jsonschema>=2.6->nbformat->notebook>=4.4.1->widgetsnbextension~=3.6.0->ipywidgets<8.0.0->geemap) (1.2.0)\n",
            "Requirement already satisfied: webcolors>=1.11 in /Library/Frameworks/Python.framework/Versions/3.10/lib/python3.10/site-packages (from jsonschema>=2.6->nbformat->notebook>=4.4.1->widgetsnbextension~=3.6.0->ipywidgets<8.0.0->geemap) (1.12)\n",
            "Requirement already satisfied: fqdn in /Library/Frameworks/Python.framework/Versions/3.10/lib/python3.10/site-packages (from jsonschema>=2.6->nbformat->notebook>=4.4.1->widgetsnbextension~=3.6.0->ipywidgets<8.0.0->geemap) (1.5.1)\n",
            "Requirement already satisfied: jsonpointer>1.13 in /Library/Frameworks/Python.framework/Versions/3.10/lib/python3.10/site-packages (from jsonschema>=2.6->nbformat->notebook>=4.4.1->widgetsnbextension~=3.6.0->ipywidgets<8.0.0->geemap) (2.3)\n",
            "Requirement already satisfied: arrow>=0.15.0 in /Library/Frameworks/Python.framework/Versions/3.10/lib/python3.10/site-packages (from isoduration->jsonschema>=2.6->nbformat->notebook>=4.4.1->widgetsnbextension~=3.6.0->ipywidgets<8.0.0->geemap) (1.2.3)\n",
            "Requirement already satisfied: ee in /Library/Frameworks/Python.framework/Versions/3.10/lib/python3.10/site-packages (0.2)\n",
            "Requirement already satisfied: blessings in /Library/Frameworks/Python.framework/Versions/3.10/lib/python3.10/site-packages (from ee) (1.7)\n",
            "Requirement already satisfied: six in /Users/eemanmajumder/Library/Python/3.10/lib/python/site-packages (from blessings->ee) (1.16.0)\n",
            "\u001b[H\u001b[2J"
          ]
        }
      ],
      "source": [
        "!pip3 install geemap\n",
        "!pip3 install ee"
      ]
    },
    {
      "cell_type": "markdown",
      "metadata": {
        "id": "akSzkNnjDjjj"
      },
      "source": [
        "## Import the Libraries"
      ]
    },
    {
      "cell_type": "code",
      "execution_count": 106,
      "metadata": {
        "id": "mROxqOGXRodj"
      },
      "outputs": [],
      "source": [
        "import os\n",
        "import ee\n",
        "import geemap\n",
        "import ipywidgets as widgets\n",
        "import pandas as pd\n",
        "import numpy as np\n",
        "from PIL import Image\n"
      ]
    },
    {
      "cell_type": "markdown",
      "metadata": {
        "id": "vHcQKgMgDvLH"
      },
      "source": [
        "## Authenticate and Initialise with your account associated with Google Earth Engine"
      ]
    },
    {
      "cell_type": "code",
      "execution_count": 64,
      "metadata": {
        "id": "OZ6iWsupRr5o"
      },
      "outputs": [
        {
          "data": {
            "text/html": [
              "<p>To authorize access needed by Earth Engine, open the following\n",
              "        URL in a web browser and follow the instructions:</p>\n",
              "        <p><a href=https://code.earthengine.google.com/client-auth?scopes=https%3A//www.googleapis.com/auth/earthengine%20https%3A//www.googleapis.com/auth/devstorage.full_control&request_id=7Yqj_R_I0YXZ7EtWEtVA0MhRDM1SxKvUETaeeOuhtrc&tc=IoTTx11oBK5yH_cHw1sHP80n42URGpgDEBsj18Xanpk&cc=xiEbZ7YfGKOerbnKdS_JkNLF8FUNJIIL1U_wg_tNCWg>https://code.earthengine.google.com/client-auth?scopes=https%3A//www.googleapis.com/auth/earthengine%20https%3A//www.googleapis.com/auth/devstorage.full_control&request_id=7Yqj_R_I0YXZ7EtWEtVA0MhRDM1SxKvUETaeeOuhtrc&tc=IoTTx11oBK5yH_cHw1sHP80n42URGpgDEBsj18Xanpk&cc=xiEbZ7YfGKOerbnKdS_JkNLF8FUNJIIL1U_wg_tNCWg</a></p>\n",
              "        <p>The authorization workflow will generate a code, which you should paste in the box below.</p>\n",
              "        "
            ],
            "text/plain": [
              "<IPython.core.display.HTML object>"
            ]
          },
          "metadata": {},
          "output_type": "display_data"
        },
        {
          "name": "stdout",
          "output_type": "stream",
          "text": [
            "\n",
            "Successfully saved authorization token.\n"
          ]
        }
      ],
      "source": [
        "ee.Authenticate()\n",
        "ee.Initialize()"
      ]
    },
    {
      "cell_type": "markdown",
      "metadata": {
        "id": "TIOjvIVuD5Sy"
      },
      "source": [
        "## Data Range"
      ]
    },
    {
      "cell_type": "code",
      "execution_count": 79,
      "metadata": {
        "id": "Fg3ayqP9Rva2"
      },
      "outputs": [],
      "source": [
        "start_date = '2022-01-01'\n",
        "end_date = '2022-06-30'"
      ]
    },
    {
      "cell_type": "markdown",
      "metadata": {
        "id": "RARrenw0D8zm"
      },
      "source": [
        "# Finding water quality parameters"
      ]
    },
    {
      "cell_type": "markdown",
      "metadata": {
        "id": "oUu5vU3_EBLs"
      },
      "source": [
        "## Sentinel-2A"
      ]
    },
    {
      "cell_type": "markdown",
      "metadata": {},
      "source": [
        "### Rastar to Vector Conversion"
      ]
    },
    {
      "cell_type": "code",
      "execution_count": 128,
      "metadata": {},
      "outputs": [],
      "source": [
        "Map = geemap.Map()\n",
        "\n",
        "geometry = ee.Geometry.Point([77.2052, 23.1443])\n",
        "image = ee.ImageCollection(\"COPERNICUS/S2_SR\") \\\n",
        "        .filterBounds(geometry) \\\n",
        "        .filter(ee.Filter.lte('CLOUDY_PIXEL_PERCENTAGE',20)) \\\n",
        "        .first()\n",
        "# Create an NDWI image, define visualization parameters and display.\n",
        "ndwi = image.normalizedDifference(['B3', 'B8'])\n",
        "\n",
        "# Mask the non-watery parts of the image, where NDWI < 0.4.\n",
        "ndwiMasked = ndwi.updateMask(ndwi.gte(0.4))\n",
        "ndwiMasked1= ndwiMasked.toInt()\n",
        "vectors = ndwiMasked1.reduceToVectors(scale = 30.0, geometryType = 'polygon', eightConnected = False, maxPixels = 10000000, bestEffort=True)\n"
      ]
    },
    {
      "cell_type": "code",
      "execution_count": 133,
      "metadata": {},
      "outputs": [],
      "source": [
        "Map.addLayer(ndwi, {}, 'NDWI')\n",
        "Map.addLayer(ndwiMasked1, {'palette': ['00FFFF', '0000FF']}, 'Water')\n",
        "Map.centerObject(geometry, zoom=12)"
      ]
    },
    {
      "cell_type": "code",
      "execution_count": 132,
      "metadata": {},
      "outputs": [
        {
          "data": {
            "application/vnd.jupyter.widget-view+json": {
              "model_id": "00f5aad3bdee41acaef4a857cf1ea5aa",
              "version_major": 2,
              "version_minor": 0
            },
            "text/plain": [
              "Map(bottom=455264.0, center=[23.144300000000005, 77.2052], controls=(WidgetControl(options=['position', 'trans…"
            ]
          },
          "metadata": {},
          "output_type": "display_data"
        }
      ],
      "source": [
        "Map"
      ]
    },
    {
      "cell_type": "code",
      "execution_count": 134,
      "metadata": {
        "id": "rM2ybOBbRvYA"
      },
      "outputs": [],
      "source": [
        "# Upper Lake, Bhopal\n",
        "\n",
        "geometry = ee.Geometry.Point([77.2052, 23.1443])\n",
        "\n",
        "\n",
        "\n",
        "Map.addLayer(geometry)\n",
        "sentinel = ee.ImageCollection(\"COPERNICUS/S2_SR\").filterBounds(vectors) \\\n",
        "            .filterDate(start_date,end_date) \\\n",
        "            .filter(ee.Filter.lt('CLOUDY_PIXEL_PERCENTAGE',20)) \\\n",
        "            .median()\n",
        "\n",
        "\n",
        "mndwi = sentinel.normalizedDifference(['B3','B11']).rename('mndwi')\n",
        "mndwitr = mndwi.gt(0)\n",
        "ndsi = sentinel.normalizedDifference(['B11','B12']).rename('ndsi')\n",
        "ndti = sentinel.normalizedDifference(['B4','B3']).rename('ndti')\n",
        "\n",
        "ndci = sentinel.normalizedDifference(['B5','B4']).rename('ndci')\n",
        "\n",
        "\n",
        "ph  = ee.Image(8.339).subtract(ee.Image(0.827).multiply(sentinel.select('B1').divide(sentinel.select('B8')))).rename('ph')\n",
        "\n",
        "dissolvedoxygen  = ee.Image(-0.0167).multiply(sentinel.select('B8')).add(ee.Image(0.0067).multiply(sentinel.select('B9'))).add(ee.Image(0.0083).multiply(sentinel.select('B11'))).add(ee.Image(9.577)).rename('dissolvedoxygen')\n"
      ]
    },
    {
      "attachments": {},
      "cell_type": "markdown",
      "metadata": {},
      "source": [
        "# Visualise"
      ]
    },
    {
      "attachments": {},
      "cell_type": "markdown",
      "metadata": {},
      "source": [
        "## MNDWI - Modified Normalised Diffrence Water Index <br>\n",
        "<h4>The Modified Normalized Difference Water Index (MNDWI) uses green and SWIR bands for the enhancement of open water features. It also diminishes built-up area features that are often correlated with open water in other indices.</h4>"
      ]
    },
    {
      "cell_type": "code",
      "execution_count": 135,
      "metadata": {},
      "outputs": [
        {
          "data": {
            "application/vnd.jupyter.widget-view+json": {
              "model_id": "00f5aad3bdee41acaef4a857cf1ea5aa",
              "version_major": 2,
              "version_minor": 0
            },
            "text/plain": [
              "Map(bottom=909578.2578125, center=[23.246668191854376, 77.33697004616262], controls=(WidgetControl(options=['p…"
            ]
          },
          "metadata": {},
          "output_type": "display_data"
        }
      ],
      "source": [
        "Map.addLayer(sentinel, {'bands': ['B4', 'B3', 'B2'], 'min': 0, 'max': 3000}, 'RGB')\n",
        "Map.addLayer(mndwi, {'min': -1, 'max': 1, 'palette': ['white', 'black', 'blue']}, 'MNDWI')\n",
        "Map"
      ]
    },
    {
      "cell_type": "markdown",
      "metadata": {},
      "source": [
        "\n"
      ]
    },
    {
      "attachments": {},
      "cell_type": "markdown",
      "metadata": {},
      "source": [
        "## PH - Power Of Hydrogen\n",
        "<h4><b>Formula: </b>pH = 8.339 - 0.827 * (B1/B8)</h4>\n"
      ]
    },
    {
      "cell_type": "code",
      "execution_count": 136,
      "metadata": {},
      "outputs": [
        {
          "data": {
            "application/vnd.jupyter.widget-view+json": {
              "model_id": "00f5aad3bdee41acaef4a857cf1ea5aa",
              "version_major": 2,
              "version_minor": 0
            },
            "text/plain": [
              "Map(bottom=909530.4140625, center=[23.25427943352529, 77.33276367187501], controls=(WidgetControl(options=['po…"
            ]
          },
          "metadata": {},
          "output_type": "display_data"
        }
      ],
      "source": [
        "Map.addLayer(sentinel, {'bands': ['B4', 'B3', 'B2'], 'min': 0, 'max': 3000}, 'RGB')\n",
        "Map.addLayer(ph, {'min': 6, 'max': 9, 'palette': ['red', 'green', 'purple']}, 'pH')\n",
        "Map"
      ]
    },
    {
      "attachments": {},
      "cell_type": "markdown",
      "metadata": {},
      "source": [
        "## NDTI - Normalize Difference Turbidity Index\n",
        "<h4>The Normalize Difference Turbidity Index (NDTI) which is estimated using the spectral reflectance values of the water pixels is used to estimate the turbidity in water bodies. It uses the phenomenon that the electromagnetic reflectance is higher in green spectrum than the red spectrum for clear water.</h4>"
      ]
    },
    {
      "cell_type": "code",
      "execution_count": 137,
      "metadata": {},
      "outputs": [
        {
          "data": {
            "application/vnd.jupyter.widget-view+json": {
              "model_id": "00f5aad3bdee41acaef4a857cf1ea5aa",
              "version_major": 2,
              "version_minor": 0
            },
            "text/plain": [
              "Map(bottom=909579.0, center=[23.246551130350483, 77.34529495239259], controls=(WidgetControl(options=['positio…"
            ]
          },
          "metadata": {},
          "output_type": "display_data"
        }
      ],
      "source": [
        "Map.addLayer(sentinel, {'bands': ['B4', 'B3', 'B2'], 'min': 0, 'max': 3000}, 'RGB')\n",
        "Map.addLayer(ndti, {'min': -1, 'max': 1, 'palette': ['black', 'yellow', 'red']}, 'NDTI')\n",
        "Map"
      ]
    },
    {
      "attachments": {},
      "cell_type": "markdown",
      "metadata": {},
      "source": [
        "## NDCI - Normalised Diffrence Chlorophyll Index\n",
        "<h4>NDCI is an index that aims to predict the plant chlorophyll content. It is calculated using the red spectral band B04 with the red edge spectral band B05</h4>"
      ]
    },
    {
      "cell_type": "code",
      "execution_count": 138,
      "metadata": {},
      "outputs": [
        {
          "data": {
            "application/vnd.jupyter.widget-view+json": {
              "model_id": "00f5aad3bdee41acaef4a857cf1ea5aa",
              "version_major": 2,
              "version_minor": 0
            },
            "text/plain": [
              "Map(bottom=909579.0, center=[23.246551130350483, 77.34529495239259], controls=(WidgetControl(options=['positio…"
            ]
          },
          "metadata": {},
          "output_type": "display_data"
        }
      ],
      "source": [
        "Map.addLayer(sentinel, {'bands': ['B4', 'B3', 'B2'], 'min': 0, 'max': 3000}, 'RGB')\n",
        "Map.addLayer(ndci, {'min': -1, 'max': 1, 'palette': ['white', 'black','yellow']}, 'NDCI')\n",
        "Map"
      ]
    },
    {
      "attachments": {},
      "cell_type": "markdown",
      "metadata": {},
      "source": [
        "## DO - Dissolved Oxygen \n",
        "<h4>Dissolved oxygen (DO) is the amount of oxygen that is present in water. Water bodies receive oxygen from the atmosphere and from aquatic plants. Running water, such as that of a swift moving stream, dissolves more oxygen than the still water of a pond or lake.</h4>"
      ]
    },
    {
      "cell_type": "code",
      "execution_count": 139,
      "metadata": {},
      "outputs": [
        {
          "data": {
            "application/vnd.jupyter.widget-view+json": {
              "model_id": "00f5aad3bdee41acaef4a857cf1ea5aa",
              "version_major": 2,
              "version_minor": 0
            },
            "text/plain": [
              "Map(bottom=909598.0, center=[23.243554320871734, 77.34237670898439], controls=(WidgetControl(options=['positio…"
            ]
          },
          "metadata": {},
          "output_type": "display_data"
        }
      ],
      "source": [
        "Map.addLayer(sentinel, {'bands': ['B4', 'B3', 'B2'], 'min': 0, 'max': 3000}, 'RGB')\n",
        "Map.addLayer(dissolvedoxygen, {'min': 0, 'max': 20, 'palette': ['white', 'black', 'teal']}, 'Dissolved Oxygen')\n",
        "Map"
      ]
    },
    {
      "attachments": {},
      "cell_type": "markdown",
      "metadata": {
        "id": "uOXuNFB0EGPO"
      },
      "source": [
        "### Landsat-8 (Temperature)"
      ]
    },
    {
      "cell_type": "code",
      "execution_count": 141,
      "metadata": {
        "id": "DAUeyxcvmpvF"
      },
      "outputs": [],
      "source": [
        "col = ee.ImageCollection('LANDSAT/LC08/C02/T1_L2') \\\n",
        ".filterDate(start_date,end_date) \\\n",
        ".filterBounds(vectors).median()\n",
        "temp  = col.select('ST_B10').multiply(0.00341802).add(149.0).subtract(273.15).rename('temp')\n"
      ]
    },
    {
      "cell_type": "code",
      "execution_count": 142,
      "metadata": {},
      "outputs": [
        {
          "data": {
            "application/vnd.jupyter.widget-view+json": {
              "model_id": "00f5aad3bdee41acaef4a857cf1ea5aa",
              "version_major": 2,
              "version_minor": 0
            },
            "text/plain": [
              "Map(bottom=909595.3515625, center=[23.244027505791752, 77.35284805297853], controls=(WidgetControl(options=['p…"
            ]
          },
          "metadata": {},
          "output_type": "display_data"
        }
      ],
      "source": [
        "Map.addLayer(temp, {'min': -30, 'max': 30, 'palette': ['red', 'white', 'black']}, 'Temperature')\n",
        "Map"
      ]
    }
  ],
  "metadata": {
    "colab": {
      "name": "Water_Quality_parameters_Shinai_Lake.ipynb",
      "provenance": []
    },
    "kernelspec": {
      "display_name": "Python 3",
      "language": "python",
      "name": "python3"
    },
    "language_info": {
      "codemirror_mode": {
        "name": "ipython",
        "version": 3
      },
      "file_extension": ".py",
      "mimetype": "text/x-python",
      "name": "python",
      "nbconvert_exporter": "python",
      "pygments_lexer": "ipython3",
      "version": "3.10.0"
    },
    "vscode": {
      "interpreter": {
        "hash": "aee8b7b246df8f9039afb4144a1f6fd8d2ca17a180786b69acc140d282b71a49"
      }
    }
  },
  "nbformat": 4,
  "nbformat_minor": 0
}
